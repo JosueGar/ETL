{
 "cells": [
  {
   "cell_type": "code",
   "execution_count": 23,
   "metadata": {},
   "outputs": [],
   "source": [
    "import pandas as pd\n",
    "from sqlalchemy import create_engine\n",
    "from matplotlib import style\n",
    "style.use('seaborn')\n",
    "import matplotlib.pyplot as plt"
   ]
  },
  {
   "cell_type": "markdown",
   "metadata": {},
   "source": [
    "<h3>Store CSV into DataFrame</h3>"
   ]
  },
  {
   "cell_type": "code",
   "execution_count": 24,
   "metadata": {},
   "outputs": [
    {
     "data": {
      "text/html": [
       "<div>\n",
       "<style scoped>\n",
       "    .dataframe tbody tr th:only-of-type {\n",
       "        vertical-align: middle;\n",
       "    }\n",
       "\n",
       "    .dataframe tbody tr th {\n",
       "        vertical-align: top;\n",
       "    }\n",
       "\n",
       "    .dataframe thead th {\n",
       "        text-align: right;\n",
       "    }\n",
       "</style>\n",
       "<table border=\"1\" class=\"dataframe\">\n",
       "  <thead>\n",
       "    <tr style=\"text-align: right;\">\n",
       "      <th></th>\n",
       "      <th>DATE</th>\n",
       "      <th>TEAM</th>\n",
       "      <th>NAME</th>\n",
       "      <th>POSITION</th>\n",
       "      <th>CASE</th>\n",
       "      <th>CATEGORY</th>\n",
       "      <th>DESCRIPTION</th>\n",
       "      <th>OUTCOME</th>\n",
       "    </tr>\n",
       "  </thead>\n",
       "  <tbody>\n",
       "    <tr>\n",
       "      <td>0</td>\n",
       "      <td>3/27/2017</td>\n",
       "      <td>SEA</td>\n",
       "      <td>Trevone Boykin</td>\n",
       "      <td>QB</td>\n",
       "      <td>Arrested</td>\n",
       "      <td>Drugs</td>\n",
       "      <td>Accused of marijuana possession, public intoxi...</td>\n",
       "      <td>Resolution undetermined.</td>\n",
       "    </tr>\n",
       "    <tr>\n",
       "      <td>1</td>\n",
       "      <td>3/26/2017</td>\n",
       "      <td>CHI</td>\n",
       "      <td>Deiondre Hall</td>\n",
       "      <td>CB</td>\n",
       "      <td>Arrested</td>\n",
       "      <td>Disorderly conduct</td>\n",
       "      <td>Accused of disorderly conduct, public intoxica...</td>\n",
       "      <td>Resolution undetermined.</td>\n",
       "    </tr>\n",
       "    <tr>\n",
       "      <td>2</td>\n",
       "      <td>3/26/2017</td>\n",
       "      <td>GB</td>\n",
       "      <td>Makinton Dorleant</td>\n",
       "      <td>CB</td>\n",
       "      <td>Arrested</td>\n",
       "      <td>Police interference</td>\n",
       "      <td>Accused of interfence after scuffle outside of...</td>\n",
       "      <td>Resolution undetermined.</td>\n",
       "    </tr>\n",
       "    <tr>\n",
       "      <td>3</td>\n",
       "      <td>3/7/2017</td>\n",
       "      <td>KC</td>\n",
       "      <td>Demetrius Harris</td>\n",
       "      <td>TE</td>\n",
       "      <td>Arrested</td>\n",
       "      <td>Drugs</td>\n",
       "      <td>Suspected of felony marijuana possession as pa...</td>\n",
       "      <td>Resolution undetermined.</td>\n",
       "    </tr>\n",
       "    <tr>\n",
       "      <td>4</td>\n",
       "      <td>3/5/2017</td>\n",
       "      <td>LAR</td>\n",
       "      <td>Ethan Westbrooks</td>\n",
       "      <td>DT</td>\n",
       "      <td>Arrested</td>\n",
       "      <td>Domestic violence</td>\n",
       "      <td>Suspected of domestic violence in Sacramento a...</td>\n",
       "      <td>Resolution undetermined.</td>\n",
       "    </tr>\n",
       "  </tbody>\n",
       "</table>\n",
       "</div>"
      ],
      "text/plain": [
       "        DATE TEAM               NAME POSITION      CASE             CATEGORY  \\\n",
       "0  3/27/2017  SEA     Trevone Boykin       QB  Arrested                Drugs   \n",
       "1  3/26/2017  CHI      Deiondre Hall       CB  Arrested   Disorderly conduct   \n",
       "2  3/26/2017   GB  Makinton Dorleant       CB  Arrested  Police interference   \n",
       "3   3/7/2017   KC   Demetrius Harris       TE  Arrested                Drugs   \n",
       "4   3/5/2017  LAR   Ethan Westbrooks       DT  Arrested    Domestic violence   \n",
       "\n",
       "                                         DESCRIPTION                   OUTCOME  \n",
       "0  Accused of marijuana possession, public intoxi...  Resolution undetermined.  \n",
       "1  Accused of disorderly conduct, public intoxica...  Resolution undetermined.  \n",
       "2  Accused of interfence after scuffle outside of...  Resolution undetermined.  \n",
       "3  Suspected of felony marijuana possession as pa...  Resolution undetermined.  \n",
       "4  Suspected of domestic violence in Sacramento a...  Resolution undetermined.  "
      ]
     },
     "execution_count": 24,
     "metadata": {},
     "output_type": "execute_result"
    }
   ],
   "source": [
    "csv_file = \"arrest_data.csv\"\n",
    "arrest_data_df = pd.read_csv(csv_file)\n",
    "arrest_data_df.head()"
   ]
  },
  {
   "cell_type": "code",
   "execution_count": 25,
   "metadata": {
    "scrolled": true
   },
   "outputs": [
    {
     "data": {
      "image/png": "[encoded data removed]",
      "text/plain": [
       "<Figure size 576x396 with 1 Axes>"
      ]
     },
     "metadata": {},
     "output_type": "display_data"
    }
   ],
   "source": [
    "# Plot Teams with Most common cases (iteam_arrests = arrest_data_df[\"TEAM\"].value_counts()e arrest)\n",
    "team_arrests = arrest_data_df[\"TEAM\"].value_counts()\n",
    "#print(team_arrests.head(10))  \n",
    "\n",
    "team_arrests.head(10).plot.bar(arrest_data_df[\"TEAM\"].value_counts())\n",
    "plt.title('Most Arrest per Team in NFL from 2000 to 2017')\n",
    "plt.ylabel('Number of Arrest')\n",
    "plt.xlabel('Teams')\n",
    "plt.savefig('Most_arrest.PNG')"
   ]
  },
  {
   "cell_type": "code",
   "execution_count": 26,
   "metadata": {},
   "outputs": [
    {
     "data": {
      "image/png": "[encoded data removed]",
      "text/plain": [
       "<Figure size 576x396 with 1 Axes>"
      ]
     },
     "metadata": {},
     "output_type": "display_data"
    }
   ],
   "source": [
    "# Plot Teams with the least common cases (ie arrest)\n",
    "team_arrests = arrest_data_df[\"TEAM\"].value_counts()\n",
    "#print(team_arrests.tail(10))  \n",
    "\n",
    "team_arrests.tail(10).plot.bar(arrest_data_df[\"TEAM\"].value_counts())\n",
    "plt.title('Least Arrest per Team in NFL from 2000 to 2017')\n",
    "plt.ylabel('Number of Arrest')\n",
    "plt.xlabel('Teams')\n",
    "plt.savefig('Least_arrest.PNG')"
   ]
  },
  {
   "cell_type": "markdown",
   "metadata": {},
   "source": [
    "<h3>Create new data with select columns</h3>"
   ]
  },
  {
   "cell_type": "code",
   "execution_count": null,
   "metadata": {},
   "outputs": [],
   "source": [
    "# Create a filtered dataframe from specific columns\n",
    "new_arrest_data_df = arrest_data_df[['NAME', 'DATE', 'CATEGORY', 'DESCRIPTION']].copy()\n",
    "\n",
    "# Rename the column headers\n",
    "new_arrest_data_df = new_arrest_data_df.rename(columns={\"NAME\": \"player_name\",\n",
    "                                                          \"DATE\": \"date_of_arrest\",\n",
    "                                                          \"CATEGORY\": \"category\",\n",
    "                                                          \"DESCRIPTION\": \"description\"})\n",
    "\n",
    "new_arrest_data_df.dropna(inplace=True)\n",
    "\n",
    "# Set index\n",
    "new_arrest_data_df.set_index(\"date_of_arrest\", inplace=True)\n",
    "\n",
    "new_arrest_data_df.head()"
   ]
  },
  {
   "cell_type": "markdown",
   "metadata": {},
   "source": [
    "<h3>Store JSON data into a DataFrame</h3>"
   ]
  },
  {
   "cell_type": "code",
   "execution_count": null,
   "metadata": {},
   "outputs": [],
   "source": [
    "json_file = \"profiles.json\"\n",
    "player_profile_df = pd.read_json(json_file)\n",
    "player_profile_df.head(20)"
   ]
  },
  {
   "cell_type": "markdown",
   "metadata": {},
   "source": [
    "<h3>Clean DataFrame</h3>"
   ]
  },
  {
   "cell_type": "code",
   "execution_count": null,
   "metadata": {},
   "outputs": [],
   "source": [
    "# Create a filtered dataframe from specific columns\n",
    "new_player_profile_df = player_profile_df[[\"player_id\",\"name\", \"current_team\", \"position\"]].copy()\n",
    "\n",
    "# Rename the column headers\n",
    "new_player_profile_df = new_player_profile_df.rename(columns={\"player_id\": \"id\",\n",
    "                                                              \"name\": \"player_name\",\n",
    "                                                              \"current_team\": \"team\"})\n",
    "\n",
    "new_player_profile_df.dropna(inplace=True)\n",
    "\n",
    "# Set index\n",
    "new_player_profile_df.set_index(\"id\", inplace=True)\n",
    "                                                          \n",
    "new_player_profile_df.head()"
   ]
  },
  {
   "cell_type": "markdown",
   "metadata": {},
   "source": [
    "<h3>Connect to local database</h3>"
   ]
  },
  {
   "cell_type": "code",
   "execution_count": null,
   "metadata": {},
   "outputs": [],
   "source": [
    "rds_connection_string = \"postgres:1234@localhost:5432/nfl_arrest_db\"\n",
    "engine = create_engine(f'postgresql://{rds_connection_string}')"
   ]
  },
  {
   "cell_type": "markdown",
   "metadata": {},
   "source": [
    "<h3>Check for tables</h3>"
   ]
  },
  {
   "cell_type": "code",
   "execution_count": null,
   "metadata": {},
   "outputs": [],
   "source": [
    "engine.table_names()"
   ]
  },
  {
   "cell_type": "markdown",
   "metadata": {},
   "source": [
    "<h3>Use pandas to load csv converted DataFrame into database</h3>"
   ]
  },
  {
   "cell_type": "code",
   "execution_count": null,
   "metadata": {},
   "outputs": [],
   "source": [
    "new_arrest_data_df.to_sql(name='arrest_table', con=engine, if_exists='append', index=False)"
   ]
  },
  {
   "cell_type": "markdown",
   "metadata": {},
   "source": [
    "<h3>Use pandas to load json converted DataFrame into database</h3>"
   ]
  },
  {
   "cell_type": "code",
   "execution_count": null,
   "metadata": {},
   "outputs": [],
   "source": [
    "new_player_profile_df.to_sql(name='player_profile', con=engine, if_exists='append', index=False)"
   ]
  },
  {
   "cell_type": "markdown",
   "metadata": {},
   "source": [
    "<h3>Confirm data has been added by querying the arrest_table</h3>"
   ]
  },
  {
   "cell_type": "code",
   "execution_count": null,
   "metadata": {},
   "outputs": [],
   "source": [
    "pd.read_sql_query('select * from arrest_table', con=engine).head()"
   ]
  },
  {
   "cell_type": "markdown",
   "metadata": {},
   "source": [
    "<h3>Confirm data has been added by querying the player_profile</h3>"
   ]
  },
  {
   "cell_type": "code",
   "execution_count": null,
   "metadata": {
    "scrolled": true
   },
   "outputs": [],
   "source": [
    "pd.read_sql_query('select * from player_profile', con=engine).head()"
   ]
  },
  {
   "cell_type": "markdown",
   "metadata": {},
   "source": [
    "<h3>Joining both datasets into 1 dataset</h3>"
   ]
  },
  {
   "cell_type": "code",
   "execution_count": null,
   "metadata": {},
   "outputs": [],
   "source": [
    "combined_ds = new_arrest_data_df.merge(new_player_profile_df,left_on='player_name', right_on='player_name')"
   ]
  },
  {
   "cell_type": "code",
   "execution_count": null,
   "metadata": {
    "scrolled": true
   },
   "outputs": [],
   "source": [
    "#combined_ds.head()\n",
    "combined_ds"
   ]
  },
  {
   "cell_type": "markdown",
   "metadata": {},
   "source": [
    "<h3>Use pandas to load csv converted DataFrame into database</h3>"
   ]
  },
  {
   "cell_type": "code",
   "execution_count": null,
   "metadata": {},
   "outputs": [],
   "source": [
    "combined_ds.to_sql(name='combine_table', con=engine, if_exists='append', index=False)"
   ]
  },
  {
   "cell_type": "markdown",
   "metadata": {},
   "source": [
    "<h3>Confirm data has been added by querying the player_profile</h3>"
   ]
  },
  {
   "cell_type": "code",
   "execution_count": null,
   "metadata": {},
   "outputs": [],
   "source": [
    "pd.read_sql_query('select * from combine_table', con=engine).head(30)"
   ]
  },
  {
   "cell_type": "code",
   "execution_count": null,
   "metadata": {},
   "outputs": [],
   "source": []
  }
 ],
 "metadata": {
  "kernelspec": {
   "display_name": "Python 3",
   "language": "python",
   "name": "python3"
  },
  "language_info": {
   "codemirror_mode": {
    "name": "ipython",
    "version": 3
   },
   "file_extension": ".py",
   "mimetype": "text/x-python",
   "name": "python",
   "nbconvert_exporter": "python",
   "pygments_lexer": "ipython3",
   "version": "3.7.4"
  }
 },
 "nbformat": 4,
 "nbformat_minor": 2
}
